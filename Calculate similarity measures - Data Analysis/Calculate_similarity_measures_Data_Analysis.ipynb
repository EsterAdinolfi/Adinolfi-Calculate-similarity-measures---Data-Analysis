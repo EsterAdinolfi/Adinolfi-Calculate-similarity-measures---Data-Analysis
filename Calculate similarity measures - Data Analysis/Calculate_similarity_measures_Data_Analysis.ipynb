{
  "cells": [
    {
      "cell_type": "markdown",
      "metadata": {
        "id": "uu0trMYnP-QN"
      },
      "source": [
        "# Domanda\n",
        "\n"
      ]
    },
    {
      "cell_type": "markdown",
      "metadata": {
        "id": "_ArYF5JPQCLM"
      },
      "source": [
        "\n",
        "For the following vectors, x and y, calculate the indicated similarity or distance measures.\n",
        "\n",
        "(a) x = (1, 1, 1, 1), y = (2, 2, 2, 2) cosine, correlation, Euclidean, Jaccard\n",
        "\n",
        "(b) x = (0, 1, 0, 1), y = (1, 0, 1, 0) cosine, correlation, Euclidean, Jaccard\n",
        "\n",
        "(c) x = (0, −1, 0, 1), y = (1, 0, −1, 0) cosine, correlation, Euclidean, Jaccard\n",
        "\n",
        "(d) x = (1, 1, 0, 1, 0, 1), y = (1, 1, 1, 0, 0, 1) cosine, correlation, Jaccard\n",
        "\n",
        "(e) x = (2, −1, 0, 2, 0, −3), y = (−1, 1, −1, 0, 0, −1) cosine, correlation, Jaccard"
      ]
    },
    {
      "cell_type": "markdown",
      "metadata": {
        "id": "Nn1LM3l6QElG"
      },
      "source": [
        "# Risposta"
      ]
    },
    {
      "cell_type": "code",
      "execution_count": null,
      "metadata": {
        "id": "cJgE8Y0YQHmK"
      },
      "outputs": [],
      "source": [
        "import numpy as np\n",
        "from scipy.spatial.distance import cosine, euclidean"
      ]
    },
    {
      "cell_type": "code",
      "execution_count": null,
      "metadata": {
        "id": "uSbIkszDO5Z8"
      },
      "outputs": [],
      "source": [
        "# Definizione dei vettori x e y per ogni esercizio.\n",
        "# Il primo gruppo di vettori prevede il calcolo della distanza euclidea.\n",
        "# Il secondo gruppo di vettori non prevede il calcolo della distanza euclidea.\n",
        "vectors1 = {\n",
        "    'a': {'x': np.array([1, 1, 1, 1]), \n",
        "          'y': np.array([2, 2, 2, 2])},\n",
        "    'b': {'x': np.array([0, 1, 0, 1]), \n",
        "          'y': np.array([1, 0, 1, 0])},\n",
        "    'c': {'x': np.array([0, -1, 0, 1]), \n",
        "          'y': np.array([1, 0, -1, 0])}\n",
        "}\n",
        "\n",
        "vectors2 = {\n",
        "    'd': {'x': np.array([1, 1, 0, 1, 0, 1]), \n",
        "          'y': np.array([1, 1, 1, 0, 0, 1])},\n",
        "    'e': {'x': np.array([2, -1, 0, 2, 0, -3]), \n",
        "          'y': np.array([-1, 1, -1, 0, 0, -1])}\n",
        "}"
      ]
    },
    {
      "cell_type": "code",
      "execution_count": null,
      "metadata": {
        "id": "Ku2GnW1LR7im"
      },
      "outputs": [],
      "source": [
        "def correlation (x,y):\n",
        "  # Calcolo della media dei vettori\n",
        "    mean_x = np.mean(x)\n",
        "    mean_y = np.mean(y)\n",
        "\n",
        "    # Calcolo delle differenze rispetto alla media\n",
        "    diff_x = x - mean_x\n",
        "    diff_y = y - mean_y\n",
        "\n",
        "    # Calcolo del numeratore e denominatore della correlazione\n",
        "    numerator = np.sum(diff_x * diff_y)\n",
        "    denominator = np.sqrt(np.sum(diff_x**2) * \n",
        "                          np.sum(diff_y**2))\n",
        "\n",
        "    # Calcolo del coefficiente di correlazione\n",
        "    if denominator == 0:\n",
        "        correlation_coeff = 0  # Evitare la divisione per zero\n",
        "    else:\n",
        "        correlation_coeff = numerator / denominator\n",
        "\n",
        "    return correlation_coeff"
      ]
    },
    {
      "cell_type": "code",
      "execution_count": null,
      "metadata": {
        "colab": {
          "base_uri": "https://localhost:8080/"
        },
        "id": "SRgjA000QLWf",
        "outputId": "feb9c121-f578-42f1-89a2-e413a04b34bd"
      },
      "outputs": [
        {
          "name": "stdout",
          "output_type": "stream",
          "text": [
            "Esercizio a:\n",
            "Cosine similarity: 0\n",
            "Correlation coefficient: 0\n",
            "Euclidean distance: 2.0\n",
            "Jaccard similarity: 0.5\n",
            "\n",
            "Esercizio b:\n",
            "Cosine similarity: 1.0\n",
            "Correlation coefficient: -1.0\n",
            "Euclidean distance: 2.0\n",
            "Jaccard similarity: 0.0\n",
            "\n",
            "Esercizio c:\n",
            "Cosine similarity: 1.0\n",
            "Correlation coefficient: 0.0\n",
            "Euclidean distance: 2.0\n",
            "Jaccard similarity: -1.0\n",
            "\n",
            "Esercizio d:\n",
            "Cosine similarity: 0.25\n",
            "Correlation coefficient: 0.25\n",
            "Jaccard similarity: 0.6\n",
            "\n",
            "Esercizio e:\n",
            "Cosine similarity: 1.0\n",
            "Correlation coefficient: -5.73316704659901e-17\n",
            "Jaccard similarity: -1.5\n",
            "\n"
          ]
        }
      ],
      "source": [
        "# Calcolo delle misure per ogni esercizio\n",
        "for exercise, data in vectors1.items():\n",
        "    x = data['x']\n",
        "    y = data['y']\n",
        "\n",
        "    cosine_sim = cosine(x, y)\n",
        "    correlation_coeff = correlation(x,y)\n",
        "    euclidean_dist = euclidean(x, y)\n",
        "\n",
        "    # Calcolo della Jaccard similarity\n",
        "    intersection = np.sum(np.minimum(x, y))\n",
        "    union = np.sum(np.maximum(x, y))\n",
        "    jaccard_sim = intersection / union\n",
        "\n",
        "    # Stampare i risultati\n",
        "    print(f\"Esercizio {exercise}:\")\n",
        "    print(f\"Cosine similarity: {cosine_sim}\")\n",
        "    print(f\"Correlation coefficient: {correlation_coeff}\")\n",
        "    print(f\"Euclidean distance: {euclidean_dist}\")\n",
        "    print(f\"Jaccard similarity: {jaccard_sim}\\n\")\n",
        "\n",
        "for exercise, data in vectors2.items():\n",
        "    x = data['x']\n",
        "    y = data['y']\n",
        "\n",
        "    cosine_sim = cosine(x, y)\n",
        "    correlation_coeff = correlation(x,y)\n",
        "\n",
        "    # Calcolo della Jaccard similarity\n",
        "    intersection = np.sum(np.minimum(x, y))\n",
        "    union = np.sum(np.maximum(x, y))\n",
        "    jaccard_sim = intersection / union\n",
        "\n",
        "    # Stampare i risultati\n",
        "    print(f\"Esercizio {exercise}:\")\n",
        "    print(f\"Cosine similarity: {cosine_sim}\")\n",
        "    print(f\"Correlation coefficient: {correlation_coeff}\")\n",
        "    print(f\"Jaccard similarity: {jaccard_sim}\\n\")"
      ]
    }
  ],
  "metadata": {
    "colab": {
      "provenance": []
    },
    "kernelspec": {
      "display_name": "Python 3",
      "name": "python3"
    },
    "language_info": {
      "name": "python"
    }
  },
  "nbformat": 4,
  "nbformat_minor": 0
}
